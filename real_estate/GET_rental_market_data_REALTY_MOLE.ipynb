{
 "cells": [
  {
   "cell_type": "markdown",
   "id": "4c2d1810",
   "metadata": {},
   "source": [
    "# Imports"
   ]
  },
  {
   "cell_type": "code",
   "execution_count": 2,
   "id": "a1d056c8",
   "metadata": {},
   "outputs": [],
   "source": [
    "import numpy as np \n",
    "import matplotlib.pyplot as plt \n",
    "import pandas as pd\n",
    "import json\n",
    "from bs4 import BeautifulSoup"
   ]
  },
  {
   "cell_type": "markdown",
   "id": "375d0abc",
   "metadata": {},
   "source": [
    "# Function"
   ]
  },
  {
   "cell_type": "code",
   "execution_count": 1,
   "id": "f39133f0",
   "metadata": {},
   "outputs": [
    {
     "name": "stdout",
     "output_type": "stream",
     "text": [
      "   bedrooms  averageRent  minRent  maxRent  totalRentals\n",
      "0         0         1238      995     1555            28\n",
      "1         1         1429      500     2700            94\n",
      "2         2         1896     1295     3100            67\n",
      "3         3         2645      850     3900            18\n",
      "4         4         3553      750     4995            10\n",
      "5         5         3898     3795     4000             2\n"
     ]
    }
   ],
   "source": [
    "import requests\n",
    "import numpy as np \n",
    "import matplotlib.pyplot as plt \n",
    "import pandas as pd\n",
    "import json\n",
    "from bs4 import BeautifulSoup\n",
    "\n",
    "def get_rental_market_data(zip_code):\n",
    "\n",
    "    url = f\"https://realty-mole-property-api.p.rapidapi.com/zipCodes/{zip_code}\"\n",
    "\n",
    "    headers = {\n",
    "        \"X-RapidAPI-Key\": \"200fe12e8emsh9b0dcb523bd0308p1bae01jsnd85caec0be01\",\n",
    "        \"X-RapidAPI-Host\": \"realty-mole-property-api.p.rapidapi.com\"\n",
    "    }\n",
    "\n",
    "    response = requests.get(url, headers=headers)\n",
    "    \n",
    "    if response.status_code == 200: \n",
    "        zip_rentals = response.json()\n",
    "        with open(f\"rental_data_{zip_code}.json\", \"w\") as file: \n",
    "            json.dump(zip_rentals, file, indent=4)\n",
    "        \n",
    "        rental_data = zip_rentals[\"rentalData\"]\n",
    "        detailed_data = rental_data[\"detailed\"]\n",
    "        df = pd.DataFrame(detailed_data)\n",
    "        return df\n",
    "    else: \n",
    "        print(\"Error occured:\", response.status_code)\n",
    "        \n",
    "my_Zip_Rentals = get_rental_market_data(97214)\n",
    "print(my_Zip_Rentals)\n",
    "\n",
    "my_Zip_Rentals.to_excel(\"rental_data_97214.xlsx\", index=False)"
   ]
  },
  {
   "cell_type": "markdown",
   "id": "063a85e8",
   "metadata": {},
   "source": [
    "import requests\n",
    "import json\n",
    "\n",
    "def get_rental_market_data(zip_code):\n",
    "    url = f\"https://realty-mole-property-api.p.rapidapi.com/zipCodes/{zip_code}\"\n",
    "    headers = {\n",
    "        \"X-RapidAPI-Key\": \"200fe12e8emsh9b0dcb523bd0308p1bae01jsnd85caec0be01\",\n",
    "        \"X-RapidAPI-Host\": \"realty-mole-property-api.p.rapidapi.com\"\n",
    "    }\n",
    "    response = requests.get(url, headers=headers)\n",
    "    \n",
    "    if response.status_code == 200: \n",
    "        zip_rentals = response.json()\n",
    "        # Convert JSON to a readable format\n",
    "        readable_data = json.dumps(zip_rentals, indent=4)\n",
    "        return readable_data\n",
    "    else: \n",
    "        print(\"Error occurred:\", response.status_code)\n",
    "\n",
    "# Example usage\n",
    "zip_code = \"97214\"\n",
    "rental_data = get_rental_market_data(zip_code)\n",
    "print(rental_data)"
   ]
  },
  {
   "cell_type": "code",
   "execution_count": 5,
   "id": "c396c432",
   "metadata": {},
   "outputs": [
    {
     "name": "stdout",
     "output_type": "stream",
     "text": [
      "   bedrooms  averageRent  minRent  maxRent  totalRentals\n",
      "0         1         1650     1650     1650             1\n"
     ]
    }
   ],
   "source": [
    "troy_id = get_rental_market_data(83871)\n",
    "print(troy_id)"
   ]
  },
  {
   "cell_type": "code",
   "execution_count": 6,
   "id": "1617497d",
   "metadata": {},
   "outputs": [
    {
     "name": "stdout",
     "output_type": "stream",
     "text": [
      "   bedrooms  averageRent  minRent  maxRent  totalRentals\n",
      "0         0          641      475     1020             4\n",
      "1         1          876      565     2010            37\n",
      "2         2         1021      650     2675            37\n",
      "3         3         1602      950     2400            20\n",
      "4         4         1949     1300     2575            14\n",
      "5         5         2488     1900     3000             4\n",
      "6         6         2995     2995     2995             1\n"
     ]
    }
   ],
   "source": [
    "moscow_id = get_rental_market_data(83843)\n",
    "print(moscow_id)"
   ]
  },
  {
   "cell_type": "code",
   "execution_count": null,
   "id": "0b7cf761",
   "metadata": {},
   "outputs": [],
   "source": []
  }
 ],
 "metadata": {
  "kernelspec": {
   "display_name": "Python 3 (ipykernel)",
   "language": "python",
   "name": "python3"
  },
  "language_info": {
   "codemirror_mode": {
    "name": "ipython",
    "version": 3
   },
   "file_extension": ".py",
   "mimetype": "text/x-python",
   "name": "python",
   "nbconvert_exporter": "python",
   "pygments_lexer": "ipython3",
   "version": "3.10.9"
  }
 },
 "nbformat": 4,
 "nbformat_minor": 5
}
